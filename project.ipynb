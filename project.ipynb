{
 "cells": [
  {
   "cell_type": "code",
   "execution_count": 1,
   "id": "3ec0e95c-f035-4811-857b-357e1182e66e",
   "metadata": {},
   "outputs": [],
   "source": [
    "import pandas as pd\n",
    "import os\n",
    "from sqlalchemy import create_engine\n",
    "import logging\n",
    "import time\n",
    "\n",
    "logging.basicConfig(\n",
    "    filename=\"logs/ingestion_db.log\",\n",
    "    level=logging.DEBUG,\n",
    "    format=\"%(asctime)s -%(levelname)s -%(message)s\", force= True,\n",
    "    filemode=\"a\"\n",
    ")\n",
    "\n",
    "engine= create_engine('sqlite:///inventory.db')\n",
    "\n",
    "def ingest_db(df, table_name, engine):\n",
    "    '''this function is for ETL-EXTRACT,TRANSFORM,LOAD.\n",
    "    the function will load the CSV as DataFrame and ingest into a Database '''\n",
    "    df.to_sql(table_name, con = engine, if_exists= 'replace' ,index=False)\n",
    "\n",
    "def load_raw_data():\n",
    "    '''This function will load the CSVs as DataFrame and ingest into db'''\n",
    "    start= time.time()\n",
    "    for file in os.listdir('data'):\n",
    "        if '.csv' in file:\n",
    "            df = pd.read_csv('data/'+file)\n",
    "            logging.info(f'ingesting {file} in db')\n",
    "            ingest_db(df, file[:-4], engine)\n",
    "        end= time.time()\n",
    "        total_time=(end-start)/60\n",
    "        logging.info('--------------------------------------------------Ingestion Complete----------------------------------------------------------')\n",
    "        \n",
    "        logging.info(f'\\nTotal time Taken: {total_time} minutes')\n",
    "        \n",
    "        \n",
    "\n",
    "if __name__ == '__main__':\n",
    "    load_raw_data()"
   ]
  },
  {
   "cell_type": "code",
   "execution_count": null,
   "id": "c1f1af64-9df2-4381-9ad7-08590489e06e",
   "metadata": {},
   "outputs": [],
   "source": []
  },
  {
   "cell_type": "code",
   "execution_count": null,
   "id": "828b8a81-2961-473d-9ffc-9b2b8524c16b",
   "metadata": {},
   "outputs": [],
   "source": []
  },
  {
   "cell_type": "code",
   "execution_count": null,
   "id": "b5835e05-f2dd-46e5-8801-07068f94656c",
   "metadata": {},
   "outputs": [],
   "source": []
  }
 ],
 "metadata": {
  "kernelspec": {
   "display_name": "Python 3 (ipykernel)",
   "language": "python",
   "name": "python3"
  },
  "language_info": {
   "codemirror_mode": {
    "name": "ipython",
    "version": 3
   },
   "file_extension": ".py",
   "mimetype": "text/x-python",
   "name": "python",
   "nbconvert_exporter": "python",
   "pygments_lexer": "ipython3",
   "version": "3.13.3"
  }
 },
 "nbformat": 4,
 "nbformat_minor": 5
}
